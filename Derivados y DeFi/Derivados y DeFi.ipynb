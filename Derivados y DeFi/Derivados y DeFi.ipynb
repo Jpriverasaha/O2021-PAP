{
 "cells": [
  {
   "cell_type": "markdown",
   "id": "b06067d1",
   "metadata": {},
   "source": [
    "<center> <img src=\"http://oci02.img.iteso.mx/identidad_de_instancia_2018/ITESO/Logos%20ITESO/Logo-ITESO-Principal.jpg\" align=\"center\" width=\"960\" height=\"480\"/> </center>"
   ]
  },
  {
   "cell_type": "markdown",
   "id": "0b53cec8",
   "metadata": {},
   "source": [
    "<center><font color=#555555><font size=6> PAP PROGRAMA DE MODELACION MATEMATICA PARA EL DESARROLLO DE PLANES Y PROYECTOS DE NEGOCIO II (O2021_PAP4J05A) </font> <br> <br>\n",
    "    \n",
    "\n",
    "<center><font color=#555555><font size=6> I.F. Antonio Rosas - Erick Mendoza </font> <br> <br>\n",
    "   \n",
    "<center> <font color= #555555> <font size = 4> Jun 2021 </a> | <font color= #555555> <font size = 4> Repository: <a href='https://github.com/erickmendozag/O2021-PAP'>Link</a></font>"
   ]
  },
  {
   "cell_type": "markdown",
   "id": "5fb8cd8d",
   "metadata": {},
   "source": [
    "<hr style=\"border:0.02in solid gray\"> </hr>"
   ]
  },
  {
   "cell_type": "markdown",
   "id": "b9d46ba7",
   "metadata": {},
   "source": [
    "<center> <font color= #555555> <font size = 6> Borrador </font> <br> <br> <font color= #555555> <font size = 5> Borrador"
   ]
  },
  {
   "cell_type": "markdown",
   "id": "654ee906",
   "metadata": {},
   "source": [
    "<hr style=\"border:0.02in solid gray\"> </hr>"
   ]
  },
  {
   "cell_type": "markdown",
   "id": "3516b009",
   "metadata": {},
   "source": [
    "Referencias : https://github.com/ccxt/ccxt"
   ]
  },
  {
   "cell_type": "markdown",
   "id": "bc964057",
   "metadata": {},
   "source": [
    "## ccxt"
   ]
  },
  {
   "cell_type": "markdown",
   "id": "eed6de74",
   "metadata": {},
   "source": [
    "The CCXT library is used to connect and trade with cryptocurrency exchanges and payment processing services worldwide. It provides quick access to market data for storage, analysis, visualization, indicator development, algorithmic trading, strategy backtesting, bot programming, and related software engineering.\n",
    "\n",
    "It is intended to be used by coders, developers, technically-skilled traders, data-scientists and financial analysts for building trading algorithms."
   ]
  },
  {
   "cell_type": "code",
   "execution_count": 1,
   "id": "b7ad49ba",
   "metadata": {},
   "outputs": [
    {
     "name": "stdout",
     "output_type": "stream",
     "text": [
      "['aax', 'aofex', 'ascendex', 'bequant', 'bibox', 'bigone', 'binance', 'binancecoinm', 'binanceus', 'binanceusdm', 'bit2c', 'bitbank', 'bitbay', 'bitbns', 'bitcoincom', 'bitfinex', 'bitfinex2', 'bitflyer', 'bitforex', 'bitget', 'bithumb', 'bitmart', 'bitmex', 'bitpanda', 'bitso', 'bitstamp', 'bitstamp1', 'bittrex', 'bitvavo', 'bitz', 'bl3p', 'braziliex', 'btcalpha', 'btcbox', 'btcmarkets', 'btctradeua', 'btcturk', 'buda', 'bw', 'bybit', 'cdax', 'cex', 'coinbase', 'coinbaseprime', 'coinbasepro', 'coincheck', 'coinegg', 'coinex', 'coinfalcon', 'coinfloor', 'coinmarketcap', 'coinmate', 'coinone', 'coinspot', 'crex24', 'currencycom', 'delta', 'deribit', 'digifinex', 'eqonex', 'equos', 'exmo', 'exx', 'flowbtc', 'ftx', 'gateio', 'gemini', 'hbtc', 'hitbtc', 'hollaex', 'huobi', 'huobijp', 'huobipro', 'idex', 'independentreserve', 'indodax', 'itbit', 'kraken', 'kucoin', 'kuna', 'latoken', 'lbank', 'liquid', 'luno', 'lykke', 'mercado', 'mixcoins', 'ndax', 'novadax', 'oceanex', 'okcoin', 'okex', 'okex3', 'okex5', 'paymium', 'phemex', 'poloniex', 'probit', 'qtrade', 'ripio', 'stex', 'therock', 'tidebit', 'tidex', 'timex', 'upbit', 'vcc', 'wavesexchange', 'whitebit', 'xena', 'yobit', 'zaif', 'zb']\n"
     ]
    }
   ],
   "source": [
    "import ccxt\n",
    "print(ccxt.exchanges) # print a list of all available exchange classes\n"
   ]
  },
  {
   "cell_type": "code",
   "execution_count": 2,
   "id": "3f2f7859",
   "metadata": {},
   "outputs": [],
   "source": [
    "import ccxt.async_support as ccxt # link against the asynchronous version of ccxt"
   ]
  },
  {
   "cell_type": "code",
   "execution_count": 3,
   "id": "7337c18c",
   "metadata": {},
   "outputs": [
    {
     "name": "stdout",
     "output_type": "stream",
     "text": [
      "hitbtc <coroutine object Exchange.load_markets at 0x000002696A8708C0>\n",
      "bitmex <coroutine object Exchange.load_markets at 0x000002696A870840>\n",
      "huobipro <coroutine object Exchange.load_markets at 0x000002696A870840>\n"
     ]
    },
    {
     "name": "stderr",
     "output_type": "stream",
     "text": [
      "<ipython-input-3-5a0e9d8074a6>:23: RuntimeWarning: coroutine 'Exchange.load_markets' was never awaited\n",
      "  print(bitmex.id, bitmex.load_markets())\n",
      "RuntimeWarning: Enable tracemalloc to get the object allocation traceback\n",
      "<ipython-input-3-5a0e9d8074a6>:24: RuntimeWarning: coroutine 'Exchange.load_markets' was never awaited\n",
      "  print(huobipro.id, huobipro.load_markets())\n",
      "RuntimeWarning: Enable tracemalloc to get the object allocation traceback\n"
     ]
    },
    {
     "ename": "TypeError",
     "evalue": "'NoneType' object is not subscriptable",
     "output_type": "error",
     "traceback": [
      "\u001b[1;31m---------------------------------------------------------------------------\u001b[0m",
      "\u001b[1;31mTypeError\u001b[0m                                 Traceback (most recent call last)",
      "\u001b[1;32m<ipython-input-3-5a0e9d8074a6>\u001b[0m in \u001b[0;36m<module>\u001b[1;34m\u001b[0m\n\u001b[0;32m     24\u001b[0m \u001b[0mprint\u001b[0m\u001b[1;33m(\u001b[0m\u001b[0mhuobipro\u001b[0m\u001b[1;33m.\u001b[0m\u001b[0mid\u001b[0m\u001b[1;33m,\u001b[0m \u001b[0mhuobipro\u001b[0m\u001b[1;33m.\u001b[0m\u001b[0mload_markets\u001b[0m\u001b[1;33m(\u001b[0m\u001b[1;33m)\u001b[0m\u001b[1;33m)\u001b[0m\u001b[1;33m\u001b[0m\u001b[1;33m\u001b[0m\u001b[0m\n\u001b[0;32m     25\u001b[0m \u001b[1;33m\u001b[0m\u001b[0m\n\u001b[1;32m---> 26\u001b[1;33m \u001b[0mprint\u001b[0m\u001b[1;33m(\u001b[0m\u001b[0mhitbtc\u001b[0m\u001b[1;33m.\u001b[0m\u001b[0mfetch_order_book\u001b[0m\u001b[1;33m(\u001b[0m\u001b[0mhitbtc\u001b[0m\u001b[1;33m.\u001b[0m\u001b[0msymbols\u001b[0m\u001b[1;33m[\u001b[0m\u001b[1;36m0\u001b[0m\u001b[1;33m]\u001b[0m\u001b[1;33m)\u001b[0m\u001b[1;33m)\u001b[0m\u001b[1;33m\u001b[0m\u001b[1;33m\u001b[0m\u001b[0m\n\u001b[0m\u001b[0;32m     27\u001b[0m \u001b[0mprint\u001b[0m\u001b[1;33m(\u001b[0m\u001b[0mbitmex\u001b[0m\u001b[1;33m.\u001b[0m\u001b[0mfetch_ticker\u001b[0m\u001b[1;33m(\u001b[0m\u001b[1;34m'BTC/USD'\u001b[0m\u001b[1;33m)\u001b[0m\u001b[1;33m)\u001b[0m\u001b[1;33m\u001b[0m\u001b[1;33m\u001b[0m\u001b[0m\n\u001b[0;32m     28\u001b[0m \u001b[0mprint\u001b[0m\u001b[1;33m(\u001b[0m\u001b[0mhuobipro\u001b[0m\u001b[1;33m.\u001b[0m\u001b[0mfetch_trades\u001b[0m\u001b[1;33m(\u001b[0m\u001b[1;34m'LTC/USDT'\u001b[0m\u001b[1;33m)\u001b[0m\u001b[1;33m)\u001b[0m\u001b[1;33m\u001b[0m\u001b[1;33m\u001b[0m\u001b[0m\n",
      "\u001b[1;31mTypeError\u001b[0m: 'NoneType' object is not subscriptable"
     ]
    }
   ],
   "source": [
    "hitbtc   = ccxt.hitbtc({'verbose': True})\n",
    "bitmex   = ccxt.bitmex()\n",
    "huobipro = ccxt.huobipro()\n",
    "exmo     = ccxt.exmo({\n",
    "    'apiKey': 'YOUR_PUBLIC_API_KEY',\n",
    "    'secret': 'YOUR_SECRET_PRIVATE_KEY',\n",
    "})\n",
    "kraken = ccxt.kraken({\n",
    "    'apiKey': 'YOUR_PUBLIC_API_KEY',\n",
    "    'secret': 'YOUR_SECRET_PRIVATE_KEY',\n",
    "})\n",
    "\n",
    "exchange_id = 'binance'\n",
    "exchange_class = getattr(ccxt, exchange_id)\n",
    "exchange = exchange_class({\n",
    "    'apiKey': 'YOUR_API_KEY',\n",
    "    'secret': 'YOUR_SECRET',\n",
    "})\n",
    "\n",
    "hitbtc_markets = hitbtc.load_markets()\n",
    "\n",
    "print(hitbtc.id, hitbtc_markets)\n",
    "print(bitmex.id, bitmex.load_markets())\n",
    "print(huobipro.id, huobipro.load_markets())\n",
    "\n",
    "print(hitbtc.fetch_order_book(hitbtc.symbols[0]))\n",
    "print(bitmex.fetch_ticker('BTC/USD'))\n",
    "print(huobipro.fetch_trades('LTC/USDT'))\n",
    "\n",
    "print(exmo.fetch_balance())\n",
    "\n",
    "# sell one ฿ for market price and receive $ right now\n",
    "print(exmo.id, exmo.create_market_sell_order('BTC/USD', 1))\n",
    "\n",
    "# limit buy BTC/EUR, you pay €2500 and receive ฿1  when the order is closed\n",
    "print(exmo.id, exmo.create_limit_buy_order('BTC/EUR', 1, 2500.00))\n",
    "\n",
    "# pass/redefine custom exchange-specific order params: type, amount, price, flags, etc...\n",
    "kraken.create_market_buy_order('BTC/USD', 1, {'trading_agreement': 'agree'})"
   ]
  },
  {
   "cell_type": "code",
   "execution_count": null,
   "id": "7c48d51d",
   "metadata": {},
   "outputs": [],
   "source": []
  }
 ],
 "metadata": {
  "kernelspec": {
   "display_name": "Python 3",
   "language": "python",
   "name": "python3"
  },
  "language_info": {
   "codemirror_mode": {
    "name": "ipython",
    "version": 3
   },
   "file_extension": ".py",
   "mimetype": "text/x-python",
   "name": "python",
   "nbconvert_exporter": "python",
   "pygments_lexer": "ipython3",
   "version": "3.8.8"
  }
 },
 "nbformat": 4,
 "nbformat_minor": 5
}
