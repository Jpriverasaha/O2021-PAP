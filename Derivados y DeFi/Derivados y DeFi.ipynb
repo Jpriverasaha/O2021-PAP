{
 "cells": [
  {
   "cell_type": "markdown",
   "id": "b06067d1",
   "metadata": {},
   "source": [
    "<center> <img src=\"http://oci02.img.iteso.mx/identidad_de_instancia_2018/ITESO/Logos%20ITESO/Logo-ITESO-Principal.jpg\" align=\"center\" width=\"960\" height=\"480\"/> </center>"
   ]
  },
  {
   "cell_type": "markdown",
   "id": "0b53cec8",
   "metadata": {},
   "source": [
    "<center><font color=#555555><font size=6> PAP PROGRAMA DE MODELACION MATEMATICA PARA EL DESARROLLO DE PLANES Y PROYECTOS DE NEGOCIO II (O2021_PAP4J05A) </font> <br> <br>\n",
    "    \n",
    "\n",
    "<center><font color=#555555><font size=6> I.F. Antonio Rosas - Erick Mendoza </font> <br> <br>\n",
    "   \n",
    "<center> <font color= #555555> <font size = 4> Jun 2021 </a> | <font color= #555555> <font size = 4> Repository: <a href='https://github.com/erickmendozag/O2021-PAP'>Link</a></font>"
   ]
  },
  {
   "cell_type": "markdown",
   "id": "5fb8cd8d",
   "metadata": {},
   "source": [
    "<hr style=\"border:0.02in solid gray\"> </hr>"
   ]
  },
  {
   "cell_type": "markdown",
   "id": "b9d46ba7",
   "metadata": {},
   "source": [
    "<center> <font color= #555555> <font size = 6> Borrador </font> <br> <br> <font color= #555555> <font size = 5> Borrador"
   ]
  },
  {
   "cell_type": "markdown",
   "id": "654ee906",
   "metadata": {},
   "source": [
    "<hr style=\"border:0.02in solid gray\"> </hr>"
   ]
  },
  {
   "cell_type": "code",
   "execution_count": 11,
   "id": "b7ad49ba",
   "metadata": {},
   "outputs": [],
   "source": [
    "# import library\n",
    "import ccxt\n",
    "import os\n",
    "import sys\n",
    "import time\n",
    "import asyncio\n",
    "import ccxt.async_support as ccxta \n",
    "import asciichartpy \n",
    "from asciichartpy import plot\n",
    "from pprint import pprint"
   ]
  },
  {
   "cell_type": "markdown",
   "id": "3516b009",
   "metadata": {},
   "source": [
    "Referencias : https://github.com/ccxt/ccxt"
   ]
  },
  {
   "cell_type": "markdown",
   "id": "bc964057",
   "metadata": {},
   "source": [
    "# ccxt"
   ]
  },
  {
   "cell_type": "markdown",
   "id": "965a6b62",
   "metadata": {},
   "source": [
    "La librería CCXT se utiliza para conectar y operar con los intercambios de criptomonedas y los servicios de procesamiento de pagos en todo el mundo. Proporciona un acceso rápido a los datos del mercado para el almacenamiento, el análisis, la visualización, el desarrollo de indicadores, el comercio algorítmico, el backtesting de estrategias, la programación de bots y la ingeniería de software relacionada.\n",
    "\n",
    "Está pensado para que lo utilicen codificadores, desarrolladores, operadores con conocimientos técnicos, científicos de datos y analistas financieros para crear algoritmos de negociación.\n"
   ]
  },
  {
   "cell_type": "markdown",
   "id": "a2b6c3da",
   "metadata": {},
   "source": [
    "La librería CCXT consta de una parte pública y otra privada. Cualquiera puede utilizar la parte pública inmediatamente después de la instalación. Las API públicas proporcionan un acceso sin restricciones a la información pública de todos los mercados bursátiles sin necesidad de registrar una cuenta de usuario o tener una clave API.\n",
    "\n",
    "\n",
    "Las API públicas incluyen lo siguiente\n",
    "\n",
    "\n",
    "-datos de mercado\n",
    "\n",
    "\n",
    "-instrumentos/pares de negociación\n",
    "\n",
    "\n",
    "-datos de precios (tipos de cambio)\n",
    "\n",
    "\n",
    "-libros de órdenes\n",
    "\n",
    "\n",
    "-historial de operaciones\n",
    "\n",
    "\n",
    "-tickers\n",
    "\n",
    "\n",
    "-OHLC(V) para la elaboración de gráficos\n",
    "\n",
    "\n",
    "-otros puntos finales públicos\n"
   ]
  },
  {
   "cell_type": "markdown",
   "id": "66bd327f",
   "metadata": {},
   "source": [
    "## Public API"
   ]
  },
  {
   "cell_type": "markdown",
   "id": "602176ef",
   "metadata": {},
   "source": [
    "### Order Book"
   ]
  },
  {
   "cell_type": "markdown",
   "id": "1d8dee11",
   "metadata": {},
   "source": [
    "Las bolsas exponen información sobre órdenes abiertas con precios de compra y venta, volúmenes y otros datos. Normalmente hay un punto final separado para consultar el estado actual (stack frame) del libro de órdenes para un mercado en particular. El libro de órdenes también suele denominarse profundidad de mercado. La información del libro de órdenes se utiliza en el proceso de toma de decisiones de negociación.\n",
    "\n",
    "El método para obtener un libro de órdenes para un símbolo en particular se llama fetchOrderBook o fetch_order_book. Acepta un símbolo y un diccionario opcional con parámetros adicionales (si la bolsa lo admite). El método para obtener el libro de órdenes se llama como se muestra a continuación:"
   ]
  },
  {
   "cell_type": "code",
   "execution_count": 10,
   "id": "464374b0",
   "metadata": {},
   "outputs": [
    {
     "name": "stdout",
     "output_type": "stream",
     "text": [
      "['aax', 'aofex', 'ascendex', 'bequant', 'bibox', 'bigone', 'binance', 'binancecoinm', 'binanceus', 'binanceusdm', 'bit2c', 'bitbank', 'bitbay', 'bitbns', 'bitcoincom', 'bitfinex', 'bitfinex2', 'bitflyer', 'bitforex', 'bitget', 'bithumb', 'bitmart', 'bitmex', 'bitpanda', 'bitso', 'bitstamp', 'bitstamp1', 'bittrex', 'bitvavo', 'bitz', 'bl3p', 'braziliex', 'btcalpha', 'btcbox', 'btcmarkets', 'btctradeua', 'btcturk', 'buda', 'bw', 'bybit', 'cdax', 'cex', 'coinbase', 'coinbaseprime', 'coinbasepro', 'coincheck', 'coinegg', 'coinex', 'coinfalcon', 'coinfloor', 'coinmarketcap', 'coinmate', 'coinone', 'coinspot', 'crex24', 'currencycom', 'delta', 'deribit', 'digifinex', 'eqonex', 'equos', 'exmo', 'exx', 'flowbtc', 'ftx', 'gateio', 'gemini', 'hbtc', 'hitbtc', 'hollaex', 'huobi', 'huobijp', 'huobipro', 'idex', 'independentreserve', 'indodax', 'itbit', 'kraken', 'kucoin', 'kuna', 'latoken', 'lbank', 'liquid', 'luno', 'lykke', 'mercado', 'mixcoins', 'ndax', 'novadax', 'oceanex', 'okcoin', 'okex', 'okex3', 'okex5', 'paymium', 'phemex', 'poloniex', 'probit', 'qtrade', 'ripio', 'stex', 'therock', 'tidebit', 'tidex', 'timex', 'upbit', 'vcc', 'wavesexchange', 'whitebit', 'xena', 'yobit', 'zaif', 'zb']\n"
     ]
    }
   ],
   "source": [
    "# print a list of all available exchange classes\n",
    "print(ccxt.exchanges) "
   ]
  },
  {
   "cell_type": "code",
   "execution_count": 2,
   "id": "29cc4fe0",
   "metadata": {},
   "outputs": [
    {
     "name": "stdout",
     "output_type": "stream",
     "text": [
      "BTC/USD\n",
      "BTC/USDT\n",
      "ETH/BTC\n",
      "XRP/BTC\n",
      "BNB/BTC\n",
      "LTC/BTC\n",
      "BCH/BTC\n",
      "BTC/BUSD\n",
      "XTZ/BTC\n",
      "ADA/BTC\n",
      "LINK/BTC\n",
      "VET/BTC\n",
      "UNI/BTC\n",
      "BTC/USDC\n"
     ]
    }
   ],
   "source": [
    "#use a exchange\n",
    "exchange = ccxt.binanceus() #api key and secret key\n",
    "\n",
    "\n",
    "#define market\n",
    "markets = exchange.load_markets()\n",
    "\n",
    "for market in markets:\n",
    "    if 'BTC' in market:\n",
    "        print(market)"
   ]
  },
  {
   "cell_type": "code",
   "execution_count": 3,
   "id": "5993db0d",
   "metadata": {},
   "outputs": [
    {
     "name": "stdout",
     "output_type": "stream",
     "text": [
      "{'symbol': 'BTC/USD', 'timestamp': 1633021570529, 'datetime': '2021-09-30T17:06:10.529Z', 'high': 43825.92, 'low': 40886.31, 'bid': 43033.41, 'bidVolume': 0.04, 'ask': 43043.39, 'askVolume': 0.001739, 'vwap': 42386.8766, 'open': 41458.06, 'close': 43037.4, 'last': 43037.4, 'previousClose': 41450.44, 'change': 1579.34, 'percentage': 3.809, 'average': None, 'baseVolume': 1437.168972, 'quoteVolume': 60917103.8312, 'info': {'symbol': 'BTCUSD', 'priceChange': '1579.3400', 'priceChangePercent': '3.809', 'weightedAvgPrice': '42386.8766', 'prevClosePrice': '41450.4400', 'lastPrice': '43037.4000', 'lastQty': '0.00197000', 'bidPrice': '43033.4100', 'bidQty': '0.04000000', 'askPrice': '43043.3900', 'askQty': '0.00173900', 'openPrice': '41458.0600', 'highPrice': '43825.9200', 'lowPrice': '40886.3100', 'volume': '1437.16897200', 'quoteVolume': '60917103.8312', 'openTime': '1632935170529', 'closeTime': '1633021570529', 'firstId': '22971554', 'lastId': '23025859', 'count': '54306'}}\n"
     ]
    }
   ],
   "source": [
    "#data for ticker\n",
    "ticker = exchange.fetch_ticker('BTC/USD')\n",
    "print(ticker)"
   ]
  },
  {
   "cell_type": "code",
   "execution_count": 4,
   "id": "cf11d692",
   "metadata": {},
   "outputs": [
    {
     "name": "stdout",
     "output_type": "stream",
     "text": [
      "[1632182400000, 43002.33, 43636.36, 39587.55, 40698.03, 2883.470607]\n",
      "[1632268800000, 40706.06, 44023.21, 40557.14, 43570.0, 1300.181813]\n",
      "[1632355200000, 43570.0, 44998.48, 43096.28, 44889.72, 2067.348438]\n",
      "[1632441600000, 44889.71, 45169.49, 40716.77, 42831.25, 1863.138005]\n",
      "[1632528000000, 42844.49, 42986.56, 41668.63, 42702.82, 1531.120576]\n",
      "[1632614400000, 42695.84, 43957.82, 40192.16, 43216.36, 1119.970708]\n",
      "[1632700800000, 43169.37, 44370.51, 42112.79, 42177.51, 1114.034145]\n",
      "[1632787200000, 42165.34, 42776.79, 40838.73, 41025.86, 1791.724673]\n",
      "[1632873600000, 41018.01, 42597.93, 40758.73, 41521.43, 1079.48151]\n",
      "[1632960000000, 41521.43, 43825.92, 41408.0, 43037.4, 892.756164]\n"
     ]
    }
   ],
   "source": [
    "#historical data\n",
    "ohlc = exchange.fetch_ohlcv('BTC/USD', timeframe='1d', limit=10)\n",
    "for candle in ohlc:\n",
    "    print(candle)\n",
    "    \n",
    "# put the first number on the link to know the date - https://www.unixtimestamp.com/"
   ]
  },
  {
   "cell_type": "code",
   "execution_count": 5,
   "id": "fd431a09",
   "metadata": {},
   "outputs": [
    {
     "name": "stdout",
     "output_type": "stream",
     "text": [
      "1.234567 87654.32\n"
     ]
    }
   ],
   "source": [
    "exchange.load_markets()\n",
    "symbol = 'BTC/USDT'\n",
    "amount = 1.2345678  # amount in base currency BTC\n",
    "price = 87654.321  # price in quote currency USDT\n",
    "formatted_amount = exchange.amount_to_precision(symbol, amount)\n",
    "formatted_price = exchange.price_to_precision(symbol, price)\n",
    "print(formatted_amount, formatted_price)"
   ]
  },
  {
   "cell_type": "code",
   "execution_count": 7,
   "id": "7bd25402",
   "metadata": {},
   "outputs": [
    {
     "data": {
      "text/plain": [
       "{'symbol': 'BTC/USD',\n",
       " 'bids': [[43239.7, 0.05608967],\n",
       "  [43210.7, 0.43920889],\n",
       "  [43188.4, 0.0291],\n",
       "  [43160.3, 0.61380284],\n",
       "  [43160.2, 0.05],\n",
       "  [43157.6, 0.37089629],\n",
       "  [43150.9, 0.0893],\n",
       "  [43138.4, 0.9],\n",
       "  [43113.8, 0.35],\n",
       "  [43113.0, 0.06118365]],\n",
       " 'asks': [[43239.8, 0.22806993],\n",
       "  [43248.3, 0.61380284],\n",
       "  [43248.4, 0.05608406],\n",
       "  [43277.4, 0.4631127],\n",
       "  [43285.3, 0.0291],\n",
       "  [43294.1, 0.05],\n",
       "  [43300.7, 0.41038582],\n",
       "  [43306.2, 0.0893],\n",
       "  [43330.7, 0.37015482],\n",
       "  [43333.9, 0.35]],\n",
       " 'timestamp': 1633022089000,\n",
       " 'datetime': '2021-09-30T17:14:49.000Z',\n",
       " 'nonce': None}"
      ]
     },
     "execution_count": 7,
     "metadata": {},
     "output_type": "execute_result"
    }
   ],
   "source": [
    "# return up to ten bidasks on each side of the order book stack\n",
    "limit = 10\n",
    "ccxt.cex().fetch_order_book('BTC/USD', limit)"
   ]
  },
  {
   "cell_type": "code",
   "execution_count": 8,
   "id": "9cf3aa74",
   "metadata": {},
   "outputs": [
    {
     "name": "stdout",
     "output_type": "stream",
     "text": [
      "binanceus market price {'bid': 271.07, 'ask': 271.61, 'spread': 0.5400000000000205}\n"
     ]
    }
   ],
   "source": [
    "orderbook = exchange.fetch_order_book (exchange.symbols[0])\n",
    "bid = orderbook['bids'][0][0] if len (orderbook['bids']) > 0 else None\n",
    "ask = orderbook['asks'][0][0] if len (orderbook['asks']) > 0 else None\n",
    "spread = (ask - bid) if (bid and ask) else None\n",
    "print (exchange.id, 'market price', { 'bid': bid, 'ask': ask, 'spread': spread })"
   ]
  },
  {
   "cell_type": "code",
   "execution_count": null,
   "id": "35d83af8",
   "metadata": {},
   "outputs": [],
   "source": []
  },
  {
   "cell_type": "markdown",
   "id": "eed6de74",
   "metadata": {},
   "source": [
    "The CCXT library is used to connect and trade with cryptocurrency exchanges and payment processing services worldwide. It provides quick access to market data for storage, analysis, visualization, indicator development, algorithmic trading, strategy backtesting, bot programming, and related software engineering.\n",
    "\n",
    "It is intended to be used by coders, developers, technically-skilled traders, data-scientists and financial analysts for building trading algorithms."
   ]
  },
  {
   "cell_type": "markdown",
   "id": "bf1685b1",
   "metadata": {},
   "source": [
    "The CCXT library consists of a public part and a private part. Anyone can use the public part immediately after installation. Public APIs provide unrestricted access to public information for all exchange markets without the need to register a user account or have an API key.\n",
    "\n",
    "\n",
    "Public APIs include the following:\n",
    "\n",
    "\n",
    "-market data\n",
    "\n",
    "\n",
    "-instruments/trading pairs\n",
    "\n",
    "\n",
    "-price feeds (exchange rates)\n",
    "\n",
    "\n",
    "-order books\n",
    "\n",
    "\n",
    "-trade history\n",
    "\n",
    "\n",
    "-tickers\n",
    "\n",
    "\n",
    "-OHLC(V) for charting\n",
    "\n",
    "\n",
    "-other public endpoints\n",
    "\n"
   ]
  },
  {
   "cell_type": "markdown",
   "id": "5c8c2451",
   "metadata": {},
   "source": [
    "Exchanges expose information on open orders with bid (buy) and ask (sell) prices, volumes and other data. Usually there is a separate endpoint for querying current state (stack frame) of the order book for a particular market. An order book is also often called market depth. The order book information is used in the trading decision making process.\n",
    "\n",
    "The method for fetching an order book for a particular symbol is named fetchOrderBook or fetch_order_book. It accepts a symbol and an optional dictionary with extra params (if supported by a particular exchange). The method for fetching the order book is called like shown below:"
   ]
  },
  {
   "cell_type": "code",
   "execution_count": null,
   "id": "898016cc",
   "metadata": {},
   "outputs": [],
   "source": []
  }
 ],
 "metadata": {
  "kernelspec": {
   "display_name": "Python 3",
   "language": "python",
   "name": "python3"
  },
  "language_info": {
   "codemirror_mode": {
    "name": "ipython",
    "version": 3
   },
   "file_extension": ".py",
   "mimetype": "text/x-python",
   "name": "python",
   "nbconvert_exporter": "python",
   "pygments_lexer": "ipython3",
   "version": "3.8.8"
  }
 },
 "nbformat": 4,
 "nbformat_minor": 5
}
