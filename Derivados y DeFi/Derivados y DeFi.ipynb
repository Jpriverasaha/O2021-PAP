{
 "cells": [
  {
   "cell_type": "markdown",
   "id": "b06067d1",
   "metadata": {},
   "source": [
    "<center> <img src=\"http://oci02.img.iteso.mx/identidad_de_instancia_2018/ITESO/Logos%20ITESO/Logo-ITESO-Principal.jpg\" align=\"center\" width=\"960\" height=\"480\"/> </center>"
   ]
  },
  {
   "cell_type": "markdown",
   "id": "0b53cec8",
   "metadata": {},
   "source": [
    "<center><font color=#555555><font size=6> PAP PROGRAMA DE MODELACION MATEMATICA PARA EL DESARROLLO DE PLANES Y PROYECTOS DE NEGOCIO II (O2021_PAP4J05A) </font> <br> <br>\n",
    "    \n",
    "\n",
    "<center><font color=#555555><font size=6> I.F. Antonio Rosas - Erick Mendoza </font> <br> <br>\n",
    "   \n",
    "<center> <font color= #555555> <font size = 4> Jun 2021 </a> | <font color= #555555> <font size = 4> Repository: <a href='https://github.com/erickmendozag/O2021-PAP'>Link</a></font>"
   ]
  },
  {
   "cell_type": "markdown",
   "id": "5fb8cd8d",
   "metadata": {},
   "source": [
    "<hr style=\"border:0.02in solid gray\"> </hr>"
   ]
  },
  {
   "cell_type": "markdown",
   "id": "b9d46ba7",
   "metadata": {},
   "source": [
    "<center> <font color= #555555> <font size = 6> Borrador </font> <br> <br> <font color= #555555> <font size = 5> Borrador"
   ]
  },
  {
   "cell_type": "markdown",
   "id": "654ee906",
   "metadata": {},
   "source": [
    "<hr style=\"border:0.02in solid gray\"> </hr>"
   ]
  },
  {
   "cell_type": "markdown",
   "id": "3516b009",
   "metadata": {},
   "source": [
    "Referencias : https://github.com/ccxt/ccxt"
   ]
  },
  {
   "cell_type": "markdown",
   "id": "bc964057",
   "metadata": {},
   "source": [
    "## ccxt"
   ]
  },
  {
   "cell_type": "markdown",
   "id": "eed6de74",
   "metadata": {},
   "source": [
    "The CCXT library is used to connect and trade with cryptocurrency exchanges and payment processing services worldwide. It provides quick access to market data for storage, analysis, visualization, indicator development, algorithmic trading, strategy backtesting, bot programming, and related software engineering.\n",
    "\n",
    "It is intended to be used by coders, developers, technically-skilled traders, data-scientists and financial analysts for building trading algorithms."
   ]
  },
  {
   "cell_type": "code",
   "execution_count": 1,
   "id": "b7ad49ba",
   "metadata": {},
   "outputs": [
    {
     "name": "stdout",
     "output_type": "stream",
     "text": [
      "['aax', 'aofex', 'ascendex', 'bequant', 'bibox', 'bigone', 'binance', 'binancecoinm', 'binanceus', 'binanceusdm', 'bit2c', 'bitbank', 'bitbay', 'bitbns', 'bitcoincom', 'bitfinex', 'bitfinex2', 'bitflyer', 'bitforex', 'bitget', 'bithumb', 'bitmart', 'bitmex', 'bitpanda', 'bitso', 'bitstamp', 'bitstamp1', 'bittrex', 'bitvavo', 'bitz', 'bl3p', 'braziliex', 'btcalpha', 'btcbox', 'btcmarkets', 'btctradeua', 'btcturk', 'buda', 'bw', 'bybit', 'cdax', 'cex', 'coinbase', 'coinbaseprime', 'coinbasepro', 'coincheck', 'coinegg', 'coinex', 'coinfalcon', 'coinfloor', 'coinmarketcap', 'coinmate', 'coinone', 'coinspot', 'crex24', 'currencycom', 'delta', 'deribit', 'digifinex', 'eqonex', 'equos', 'exmo', 'exx', 'flowbtc', 'ftx', 'gateio', 'gemini', 'hbtc', 'hitbtc', 'hollaex', 'huobi', 'huobijp', 'huobipro', 'idex', 'independentreserve', 'indodax', 'itbit', 'kraken', 'kucoin', 'kuna', 'latoken', 'lbank', 'liquid', 'luno', 'lykke', 'mercado', 'mixcoins', 'ndax', 'novadax', 'oceanex', 'okcoin', 'okex', 'okex3', 'okex5', 'paymium', 'phemex', 'poloniex', 'probit', 'qtrade', 'ripio', 'stex', 'therock', 'tidebit', 'tidex', 'timex', 'upbit', 'vcc', 'wavesexchange', 'whitebit', 'xena', 'yobit', 'zaif', 'zb']\n"
     ]
    }
   ],
   "source": [
    "# import library\n",
    "import ccxt\n",
    "import ccxt\n",
    "import os\n",
    "import sys\n",
    "from pprint import pprint\n",
    "import asyncio\n",
    "import ccxt.async_support as ccxta \n",
    "import time\n",
    "import os\n",
    "import asciichartpy \n",
    "from asciichartpy import plot\n",
    "\n",
    "# print a list of all available exchange classes\n",
    "print(ccxt.exchanges) \n"
   ]
  },
  {
   "cell_type": "code",
   "execution_count": 2,
   "id": "29cc4fe0",
   "metadata": {},
   "outputs": [
    {
     "name": "stdout",
     "output_type": "stream",
     "text": [
      "BTC/USD\n",
      "BTC/USDT\n",
      "ETH/BTC\n",
      "XRP/BTC\n",
      "BNB/BTC\n",
      "LTC/BTC\n",
      "BCH/BTC\n",
      "BTC/BUSD\n",
      "XTZ/BTC\n",
      "ADA/BTC\n",
      "LINK/BTC\n",
      "VET/BTC\n",
      "UNI/BTC\n",
      "BTC/USDC\n"
     ]
    }
   ],
   "source": [
    "#use a exchange\n",
    "exchange = ccxt.binanceus() #api key and secret key\n",
    "\n",
    "\n",
    "#define market\n",
    "markets = exchange.load_markets()\n",
    "\n",
    "for market in markets:\n",
    "    if 'BTC' in market:\n",
    "        print(market)"
   ]
  },
  {
   "cell_type": "code",
   "execution_count": 3,
   "id": "5993db0d",
   "metadata": {},
   "outputs": [
    {
     "name": "stdout",
     "output_type": "stream",
     "text": [
      "{'symbol': 'BTC/USD', 'timestamp': 1632881097745, 'datetime': '2021-09-29T02:04:57.745Z', 'high': 42776.79, 'low': 40758.73, 'bid': 41647.14, 'bidVolume': 0.005871, 'ask': 41651.27, 'askVolume': 0.010988, 'vwap': 41869.3886, 'open': 42597.51, 'close': 41646.05, 'last': 41646.05, 'previousClose': 42593.43, 'change': -951.46, 'percentage': -2.234, 'average': None, 'baseVolume': 1751.557004, 'quoteVolume': 73336620.8054, 'info': {'symbol': 'BTCUSD', 'priceChange': '-951.4600', 'priceChangePercent': '-2.234', 'weightedAvgPrice': '41869.3886', 'prevClosePrice': '42593.4300', 'lastPrice': '41646.0500', 'lastQty': '0.00124800', 'bidPrice': '41647.1400', 'bidQty': '0.00587100', 'askPrice': '41651.2700', 'askQty': '0.01098800', 'openPrice': '42597.5100', 'highPrice': '42776.7900', 'lowPrice': '40758.7300', 'volume': '1751.55700400', 'quoteVolume': '73336620.8054', 'openTime': '1632794697745', 'closeTime': '1632881097745', 'firstId': '22878690', 'lastId': '22946332', 'count': '67643'}}\n"
     ]
    }
   ],
   "source": [
    "#data for ticker\n",
    "ticker = exchange.fetch_ticker('BTC/USD')\n",
    "print(ticker)"
   ]
  },
  {
   "cell_type": "code",
   "execution_count": 4,
   "id": "cf11d692",
   "metadata": {},
   "outputs": [
    {
     "name": "stdout",
     "output_type": "stream",
     "text": [
      "[1632096000000, 47255.6, 47348.84, 42433.29, 43002.87, 4219.188039]\n",
      "[1632182400000, 43002.33, 43636.36, 39587.55, 40698.03, 2883.470607]\n",
      "[1632268800000, 40706.06, 44023.21, 40557.14, 43570.0, 1300.181813]\n",
      "[1632355200000, 43570.0, 44998.48, 43096.28, 44889.72, 2067.348438]\n",
      "[1632441600000, 44889.71, 45169.49, 40716.77, 42831.25, 1863.138005]\n",
      "[1632528000000, 42844.49, 42986.56, 41668.63, 42702.82, 1531.120576]\n",
      "[1632614400000, 42695.84, 43957.82, 40192.16, 43216.36, 1119.970708]\n",
      "[1632700800000, 43169.37, 44370.51, 42112.79, 42177.51, 1114.034145]\n",
      "[1632787200000, 42165.34, 42776.79, 40838.73, 41025.86, 1791.724673]\n",
      "[1632873600000, 41018.01, 41850.25, 40758.73, 41646.05, 108.38086]\n"
     ]
    }
   ],
   "source": [
    "#historical data\n",
    "ohlc = exchange.fetch_ohlcv('BTC/USD', timeframe='1d', limit=10)\n",
    "for candle in ohlc:\n",
    "    print(candle)\n",
    "    \n",
    "# put the first number on the link to know the date - https://www.unixtimestamp.com/"
   ]
  }
 ],
 "metadata": {
  "kernelspec": {
   "display_name": "Python 3",
   "language": "python",
   "name": "python3"
  },
  "language_info": {
   "codemirror_mode": {
    "name": "ipython",
    "version": 3
   },
   "file_extension": ".py",
   "mimetype": "text/x-python",
   "name": "python",
   "nbconvert_exporter": "python",
   "pygments_lexer": "ipython3",
   "version": "3.8.8"
  }
 },
 "nbformat": 4,
 "nbformat_minor": 5
}
