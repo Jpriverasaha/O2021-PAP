{
 "cells": [
  {
   "cell_type": "markdown",
   "id": "b06067d1",
   "metadata": {},
   "source": [
    "<center> <img src=\"http://oci02.img.iteso.mx/identidad_de_instancia_2018/ITESO/Logos%20ITESO/Logo-ITESO-Principal.jpg\" align=\"center\" width=\"960\" height=\"480\"/> </center>"
   ]
  },
  {
   "cell_type": "markdown",
   "id": "0b53cec8",
   "metadata": {},
   "source": [
    "<center><font color=#555555><font size=6> PAP PROGRAMA DE MODELACION MATEMATICA PARA EL DESARROLLO DE PLANES Y PROYECTOS DE NEGOCIO II (O2021_PAP4J05A) </font> <br> <br>\n",
    "    \n",
    "\n",
    "<center><font color=#555555><font size=6> I.F. Antonio Rosas - Erick Mendoza </font> <br> <br>\n",
    "   \n",
    "<center> <font color= #555555> <font size = 4> Jun 2021 </a> | <font color= #555555> <font size = 4> Repository: <a href='https://github.com/erickmendozag/O2021-PAP'>Link</a></font>"
   ]
  },
  {
   "cell_type": "markdown",
   "id": "5fb8cd8d",
   "metadata": {},
   "source": [
    "<hr style=\"border:0.02in solid gray\"> </hr>"
   ]
  },
  {
   "cell_type": "markdown",
   "id": "b9d46ba7",
   "metadata": {},
   "source": [
    "<center> <font color= #555555> <font size = 6> Borrador </font> <br> <br> <font color= #555555> <font size = 5> Borrador"
   ]
  },
  {
   "cell_type": "markdown",
   "id": "654ee906",
   "metadata": {},
   "source": [
    "<hr style=\"border:0.02in solid gray\"> </hr>"
   ]
  },
  {
   "cell_type": "markdown",
   "id": "3516b009",
   "metadata": {},
   "source": [
    "Referencias : https://github.com/ccxt/ccxt"
   ]
  },
  {
   "cell_type": "markdown",
   "id": "bc964057",
   "metadata": {},
   "source": [
    "## ccxt"
   ]
  },
  {
   "cell_type": "markdown",
   "id": "eed6de74",
   "metadata": {},
   "source": [
    "The CCXT library is used to connect and trade with cryptocurrency exchanges and payment processing services worldwide. It provides quick access to market data for storage, analysis, visualization, indicator development, algorithmic trading, strategy backtesting, bot programming, and related software engineering.\n",
    "\n",
    "It is intended to be used by coders, developers, technically-skilled traders, data-scientists and financial analysts for building trading algorithms."
   ]
  },
  {
   "cell_type": "code",
   "execution_count": 17,
   "id": "b7ad49ba",
   "metadata": {},
   "outputs": [
    {
     "name": "stdout",
     "output_type": "stream",
     "text": [
      "['aax', 'aofex', 'ascendex', 'bequant', 'bibox', 'bigone', 'binance', 'binancecoinm', 'binanceus', 'binanceusdm', 'bit2c', 'bitbank', 'bitbay', 'bitbns', 'bitcoincom', 'bitfinex', 'bitfinex2', 'bitflyer', 'bitforex', 'bitget', 'bithumb', 'bitmart', 'bitmex', 'bitpanda', 'bitso', 'bitstamp', 'bitstamp1', 'bittrex', 'bitvavo', 'bitz', 'bl3p', 'braziliex', 'btcalpha', 'btcbox', 'btcmarkets', 'btctradeua', 'btcturk', 'buda', 'bw', 'bybit', 'cdax', 'cex', 'coinbase', 'coinbaseprime', 'coinbasepro', 'coincheck', 'coinegg', 'coinex', 'coinfalcon', 'coinfloor', 'coinmarketcap', 'coinmate', 'coinone', 'coinspot', 'crex24', 'currencycom', 'delta', 'deribit', 'digifinex', 'eqonex', 'equos', 'exmo', 'exx', 'flowbtc', 'ftx', 'gateio', 'gemini', 'hbtc', 'hitbtc', 'hollaex', 'huobi', 'huobijp', 'huobipro', 'idex', 'independentreserve', 'indodax', 'itbit', 'kraken', 'kucoin', 'kuna', 'latoken', 'lbank', 'liquid', 'luno', 'lykke', 'mercado', 'mixcoins', 'ndax', 'novadax', 'oceanex', 'okcoin', 'okex', 'okex3', 'okex5', 'paymium', 'phemex', 'poloniex', 'probit', 'qtrade', 'ripio', 'stex', 'therock', 'tidebit', 'tidex', 'timex', 'upbit', 'vcc', 'wavesexchange', 'whitebit', 'xena', 'yobit', 'zaif', 'zb']\n"
     ]
    }
   ],
   "source": [
    "# import library\n",
    "import ccxt\n",
    "\n",
    "# print a list of all available exchange classes\n",
    "print(ccxt.exchanges) \n"
   ]
  },
  {
   "cell_type": "code",
   "execution_count": 18,
   "id": "29cc4fe0",
   "metadata": {},
   "outputs": [
    {
     "name": "stdout",
     "output_type": "stream",
     "text": [
      "BTC/USD\n",
      "BTC/USDT\n",
      "ETH/BTC\n",
      "XRP/BTC\n",
      "BNB/BTC\n",
      "LTC/BTC\n",
      "BCH/BTC\n",
      "BTC/BUSD\n",
      "XTZ/BTC\n",
      "ADA/BTC\n",
      "LINK/BTC\n",
      "VET/BTC\n",
      "UNI/BTC\n",
      "BTC/USDC\n"
     ]
    }
   ],
   "source": [
    "#use a exchange\n",
    "exchange = ccxt.binanceus()\n",
    "\n",
    "#define market\n",
    "markets = exchange.load_markets()\n",
    "\n",
    "for market in markets:\n",
    "    if 'BTC' in market:\n",
    "        print(market)"
   ]
  },
  {
   "cell_type": "code",
   "execution_count": 19,
   "id": "8e29df3f",
   "metadata": {},
   "outputs": [
    {
     "name": "stdout",
     "output_type": "stream",
     "text": [
      "{'symbol': 'BTC/USD', 'timestamp': 1631209241338, 'datetime': '2021-09-09T17:40:41.338Z', 'high': 47395.22, 'low': 45518.75, 'bid': 46910.29, 'bidVolume': 0.12788, 'ask': 46924.7, 'askVolume': 0.15, 'vwap': 46389.9155, 'open': 46069.88, 'close': 46916.96, 'last': 46916.96, 'previousClose': 46048.89, 'change': 847.08, 'percentage': 1.839, 'average': None, 'baseVolume': 1470.184718, 'quoteVolume': 68201744.9092, 'info': {'symbol': 'BTCUSD', 'priceChange': '847.0800', 'priceChangePercent': '1.839', 'weightedAvgPrice': '46389.9155', 'prevClosePrice': '46048.8900', 'lastPrice': '46916.9600', 'lastQty': '0.00541000', 'bidPrice': '46910.2900', 'bidQty': '0.12788000', 'askPrice': '46924.7000', 'askQty': '0.15000000', 'openPrice': '46069.8800', 'highPrice': '47395.2200', 'lowPrice': '45518.7500', 'volume': '1470.18471800', 'quoteVolume': '68201744.9092', 'openTime': '1631122841338', 'closeTime': '1631209241338', 'firstId': '21614349', 'lastId': '21686383', 'count': '72035'}}\n"
     ]
    }
   ],
   "source": [
    "#data for ticker\n",
    "ticker = exchange.fetch_ticker('BTC/USD')\n",
    "print(ticker)"
   ]
  },
  {
   "cell_type": "code",
   "execution_count": 28,
   "id": "5da01e9a",
   "metadata": {},
   "outputs": [
    {
     "name": "stdout",
     "output_type": "stream",
     "text": [
      "[1630368000000, 46982.88, 48276.66, 46707.65, 47124.19, 1054.240828]\n",
      "[1630454400000, 47120.06, 49126.57, 46539.06, 48846.19, 1233.693149]\n",
      "[1630540800000, 48836.53, 50380.0, 48617.17, 49277.1, 1328.110072]\n",
      "[1630627200000, 49277.2, 51056.86, 48360.0, 50019.96, 1611.166828]\n",
      "[1630713600000, 50026.59, 50551.31, 49404.0, 49943.9, 748.812532]\n",
      "[1630800000000, 49944.74, 51894.54, 49483.6, 51792.23, 878.855279]\n",
      "[1630886400000, 51792.11, 52802.59, 51018.35, 52702.93, 976.07961]\n",
      "[1630972800000, 52700.91, 52948.52, 42600.0, 46856.92, 2901.671399]\n",
      "[1631059200000, 46871.22, 47368.75, 44423.0, 46086.65, 1410.521654]\n",
      "[1631145600000, 46064.99, 47395.22, 45518.75, 46855.41, 1268.925944]\n"
     ]
    }
   ],
   "source": [
    "#historical data\n",
    "ohlc = exchange.fetch_ohlcv('BTC/USD', timeframe='1d', limit=10)\n",
    "for candle in ohlc:\n",
    "    print(candle)\n",
    "    \n",
    "# put the first number on the link to know the date - https://www.unixtimestamp.com/"
   ]
  },
  {
   "cell_type": "code",
   "execution_count": null,
   "id": "5d4095e3",
   "metadata": {},
   "outputs": [],
   "source": []
  }
 ],
 "metadata": {
  "kernelspec": {
   "display_name": "Python 3",
   "language": "python",
   "name": "python3"
  },
  "language_info": {
   "codemirror_mode": {
    "name": "ipython",
    "version": 3
   },
   "file_extension": ".py",
   "mimetype": "text/x-python",
   "name": "python",
   "nbconvert_exporter": "python",
   "pygments_lexer": "ipython3",
   "version": "3.8.8"
  }
 },
 "nbformat": 4,
 "nbformat_minor": 5
}
